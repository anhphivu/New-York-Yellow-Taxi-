{
 "cells": [
  {
   "cell_type": "markdown",
   "metadata": {},
   "source": [
    "# Flights Curated Data Pre-processing\n",
    "\n",
    "**This note book pre-process the flights data from the raw folder and save it to the curated folder**"
   ]
  },
  {
   "cell_type": "code",
   "execution_count": 17,
   "metadata": {},
   "outputs": [
    {
     "data": {
      "text/html": [
       "<div>\n",
       "<style scoped>\n",
       "    .dataframe tbody tr th:only-of-type {\n",
       "        vertical-align: middle;\n",
       "    }\n",
       "\n",
       "    .dataframe tbody tr th {\n",
       "        vertical-align: top;\n",
       "    }\n",
       "\n",
       "    .dataframe thead th {\n",
       "        text-align: right;\n",
       "    }\n",
       "</style>\n",
       "<table border=\"1\" class=\"dataframe\">\n",
       "  <thead>\n",
       "    <tr style=\"text-align: right;\">\n",
       "      <th></th>\n",
       "      <th>flight_id</th>\n",
       "      <th>departure_airport</th>\n",
       "      <th>arrival_airport</th>\n",
       "      <th>scheduled_departure_time</th>\n",
       "      <th>actual_departure_time</th>\n",
       "      <th>scheduled_arrival_time</th>\n",
       "      <th>actual_arrival_time</th>\n",
       "      <th>elapsed_time_flight_minutes</th>\n",
       "    </tr>\n",
       "  </thead>\n",
       "  <tbody>\n",
       "    <tr>\n",
       "      <th>0</th>\n",
       "      <td>0</td>\n",
       "      <td>IAD</td>\n",
       "      <td>JFK</td>\n",
       "      <td>06:00:00</td>\n",
       "      <td>05:54:00</td>\n",
       "      <td>07:29:00</td>\n",
       "      <td>07:10:00</td>\n",
       "      <td>89</td>\n",
       "    </tr>\n",
       "    <tr>\n",
       "      <th>1</th>\n",
       "      <td>1</td>\n",
       "      <td>IAD</td>\n",
       "      <td>JFK</td>\n",
       "      <td>06:00:00</td>\n",
       "      <td>05:52:00</td>\n",
       "      <td>07:29:00</td>\n",
       "      <td>07:07:00</td>\n",
       "      <td>89</td>\n",
       "    </tr>\n",
       "    <tr>\n",
       "      <th>2</th>\n",
       "      <td>2</td>\n",
       "      <td>IAD</td>\n",
       "      <td>JFK</td>\n",
       "      <td>06:00:00</td>\n",
       "      <td>06:00:00</td>\n",
       "      <td>07:29:00</td>\n",
       "      <td>07:36:00</td>\n",
       "      <td>89</td>\n",
       "    </tr>\n",
       "    <tr>\n",
       "      <th>3</th>\n",
       "      <td>3</td>\n",
       "      <td>IAD</td>\n",
       "      <td>JFK</td>\n",
       "      <td>06:00:00</td>\n",
       "      <td>05:54:00</td>\n",
       "      <td>07:29:00</td>\n",
       "      <td>07:11:00</td>\n",
       "      <td>89</td>\n",
       "    </tr>\n",
       "    <tr>\n",
       "      <th>4</th>\n",
       "      <td>4</td>\n",
       "      <td>IAD</td>\n",
       "      <td>JFK</td>\n",
       "      <td>06:00:00</td>\n",
       "      <td>05:57:00</td>\n",
       "      <td>07:24:00</td>\n",
       "      <td>07:16:00</td>\n",
       "      <td>84</td>\n",
       "    </tr>\n",
       "  </tbody>\n",
       "</table>\n",
       "</div>"
      ],
      "text/plain": [
       "   flight_id departure_airport arrival_airport scheduled_departure_time  \\\n",
       "0          0               IAD             JFK                 06:00:00   \n",
       "1          1               IAD             JFK                 06:00:00   \n",
       "2          2               IAD             JFK                 06:00:00   \n",
       "3          3               IAD             JFK                 06:00:00   \n",
       "4          4               IAD             JFK                 06:00:00   \n",
       "\n",
       "  actual_departure_time scheduled_arrival_time actual_arrival_time  \\\n",
       "0              05:54:00               07:29:00            07:10:00   \n",
       "1              05:52:00               07:29:00            07:07:00   \n",
       "2              06:00:00               07:29:00            07:36:00   \n",
       "3              05:54:00               07:29:00            07:11:00   \n",
       "4              05:57:00               07:24:00            07:16:00   \n",
       "\n",
       "   elapsed_time_flight_minutes  \n",
       "0                           89  \n",
       "1                           89  \n",
       "2                           89  \n",
       "3                           89  \n",
       "4                           84  "
      ]
     },
     "execution_count": 17,
     "metadata": {},
     "output_type": "execute_result"
    }
   ],
   "source": [
    "import pandas as pd\n",
    "\n",
    "df = pd.read_csv(\"../data/raw/flights_raw_data.csv\")\n",
    "df.head()"
   ]
  },
  {
   "cell_type": "markdown",
   "metadata": {},
   "source": [
    "**Only include flight depart from JFK and arrive to JFK**"
   ]
  },
  {
   "cell_type": "code",
   "execution_count": 18,
   "metadata": {},
   "outputs": [],
   "source": [
    "# Ensure departue_airport and arrival_airport are string\n",
    "df['departure_airport'] = df['departure_airport'].astype('string')\n",
    "df['arrival_airport'] = df['arrival_airport'].astype('string')"
   ]
  },
  {
   "cell_type": "code",
   "execution_count": 19,
   "metadata": {},
   "outputs": [],
   "source": [
    "# Only consider departure from JFK or arrival to JFK\n",
    "filtered_df = df[(df['departure_airport'] == 'JFK') | (df['arrival_airport'] == 'JFK')]"
   ]
  },
  {
   "cell_type": "code",
   "execution_count": 20,
   "metadata": {},
   "outputs": [],
   "source": [
    "JFK_arr = df[df['arrival_airport'] == 'JFK']"
   ]
  },
  {
   "cell_type": "code",
   "execution_count": 21,
   "metadata": {},
   "outputs": [
    {
     "name": "stderr",
     "output_type": "stream",
     "text": [
      "/var/folders/yy/7q_gmwc10sd3qdpgyfbhm17c0000gn/T/ipykernel_56625/195789567.py:2: SettingWithCopyWarning: \n",
      "A value is trying to be set on a copy of a slice from a DataFrame.\n",
      "Try using .loc[row_indexer,col_indexer] = value instead\n",
      "\n",
      "See the caveats in the documentation: https://pandas.pydata.org/pandas-docs/stable/user_guide/indexing.html#returning-a-view-versus-a-copy\n",
      "  JFK_arr['arrival_hour'] = filtered_df['actual_arrival_time'].str.split(':').str[0].str[-2:].astype(int)\n"
     ]
    }
   ],
   "source": [
    "# Extract the departure hour and arrival hour\n",
    "JFK_arr['arrival_hour'] = filtered_df['actual_arrival_time'].str.split(':').str[0].str[-2:].astype(int)"
   ]
  },
  {
   "cell_type": "code",
   "execution_count": 22,
   "metadata": {},
   "outputs": [],
   "source": [
    "# Drop unecceasry column\n",
    "JFK_arr = JFK_arr.drop(columns=['scheduled_departure_time', 'actual_departure_time', 'scheduled_arrival_time', 'actual_arrival_time'])"
   ]
  },
  {
   "cell_type": "markdown",
   "metadata": {},
   "source": [
    "**Add hourly bins**\n"
   ]
  },
  {
   "cell_type": "code",
   "execution_count": 23,
   "metadata": {},
   "outputs": [],
   "source": [
    "# Create bins for arrival_hour and add to dataframe\n",
    "# Add the bins for every hour\n",
    "\n",
    "for i in range(23):\n",
    "    bin_name = f\"[{i}-{i+1}]\"\n",
    "    JFK_arr[bin_name] = JFK_arr['arrival_hour'].apply(lambda x: 1 if x == i else 0)"
   ]
  },
  {
   "cell_type": "markdown",
   "metadata": {},
   "source": [
    "**Re-order the columns**"
   ]
  },
  {
   "cell_type": "code",
   "execution_count": 25,
   "metadata": {},
   "outputs": [],
   "source": [
    "# Change column order\n",
    "hourly_bins = [f\"[{i}-{i+1}]\" for i in range(23)]\n",
    "\n",
    "column_order = [\n",
    "    'flight_id', 'departure_airport', 'arrival_airport', 'arrival_hour'\n",
    "] + hourly_bins + ['elapsed_time_flight_minutes']\n",
    "\n",
    "# Reorder the columns in the dataframe\n",
    "JFK_arr = JFK_arr[column_order]"
   ]
  },
  {
   "cell_type": "markdown",
   "metadata": {},
   "source": [
    "**Save the data**"
   ]
  },
  {
   "cell_type": "code",
   "execution_count": 27,
   "metadata": {},
   "outputs": [],
   "source": [
    "# Save the data\n",
    "JFK_arr.to_csv('../data/curated/JFK_arrival_flight_data.csv', index = False)"
   ]
  }
 ],
 "metadata": {
  "kernelspec": {
   "display_name": "base",
   "language": "python",
   "name": "python3"
  },
  "language_info": {
   "codemirror_mode": {
    "name": "ipython",
    "version": 3
   },
   "file_extension": ".py",
   "mimetype": "text/x-python",
   "name": "python",
   "nbconvert_exporter": "python",
   "pygments_lexer": "ipython3",
   "version": "3.9.13"
  },
  "orig_nbformat": 4
 },
 "nbformat": 4,
 "nbformat_minor": 2
}
